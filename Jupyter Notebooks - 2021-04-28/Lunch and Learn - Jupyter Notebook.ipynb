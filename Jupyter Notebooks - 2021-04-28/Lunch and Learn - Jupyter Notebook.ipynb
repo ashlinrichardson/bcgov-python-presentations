{
 "cells": [
  {
   "cell_type": "markdown",
   "metadata": {
    "slideshow": {
     "slide_type": "slide"
    }
   },
   "source": [
    "# Lunch and Learn\n",
    "## Jupyter Notebooks\n",
    "\n",
    "\n",
    "### Evan Harley \n",
    "#### Data Scientist, Ministry of Transportation and Infrastructure"
   ]
  },
  {
   "cell_type": "markdown",
   "metadata": {
    "slideshow": {
     "slide_type": "slide"
    }
   },
   "source": [
    "## What is a Jupyter Notebook"
   ]
  },
  {
   "cell_type": "markdown",
   "metadata": {
    "slideshow": {
     "slide_type": "fragment"
    }
   },
   "source": [
    "### From the Jupyter Web Site\n",
    "\n",
    "The Jupyter Notebook is an open-source web application that allows you to create and share documents that contain live code, equations, visualizations and narrative text."
   ]
  },
  {
   "cell_type": "markdown",
   "metadata": {
    "slideshow": {
     "slide_type": "fragment"
    }
   },
   "source": [
    "### How I think of it\n",
    "\n",
    "Jupyter notebooks function in a way similar to R Markdown documents. They allow you to write code which runs in chunks and provides the output to you as soon as it is run."
   ]
  },
  {
   "cell_type": "markdown",
   "metadata": {
    "slideshow": {
     "slide_type": "slide"
    }
   },
   "source": [
    "## What Jupyter isn't"
   ]
  },
  {
   "cell_type": "markdown",
   "metadata": {
    "slideshow": {
     "slide_type": "fragment"
    }
   },
   "source": [
    "### Jupyter isn't an IDE\n",
    "\n",
    "* Scripting which includes things like declaration of classes etc, is challenging\n",
    "* Debugging in Jupyter is a PAIN!\n",
    "    * Jupyter Lab is trying to be more of an IDE. But, in personal projects it has proven very difficult to debug etc."
   ]
  },
  {
   "cell_type": "markdown",
   "metadata": {
    "slideshow": {
     "slide_type": "fragment"
    }
   },
   "source": [
    "### Jupyter Notebooks aren't quite as flexible as R Markdown Documents\n",
    "\n",
    "* While you can use Markdown cells you can't pull variables from your code cells. (Without installing extensions.)\n"
   ]
  },
  {
   "cell_type": "markdown",
   "metadata": {
    "slideshow": {
     "slide_type": "slide"
    }
   },
   "source": [
    "## What does a Jupyter Notebook look like"
   ]
  },
  {
   "cell_type": "markdown",
   "metadata": {
    "slideshow": {
     "slide_type": "subslide"
    }
   },
   "source": [
    "### A live code Markdown document\n",
    "\n",
    "#### Go to the Demo Document"
   ]
  },
  {
   "cell_type": "markdown",
   "metadata": {
    "slideshow": {
     "slide_type": "subslide"
    }
   },
   "source": [
    "### A rendered HTML document\n",
    "\n",
    "#### Go to Example document"
   ]
  },
  {
   "cell_type": "markdown",
   "metadata": {
    "slideshow": {
     "slide_type": "subslide"
    }
   },
   "source": [
    "### A Presentation\n",
    "\n",
    "#### This presentation is a Jupyter Notebook"
   ]
  },
  {
   "cell_type": "markdown",
   "metadata": {
    "slideshow": {
     "slide_type": "slide"
    }
   },
   "source": [
    "## How do you use a Jupyter Notebook"
   ]
  },
  {
   "cell_type": "markdown",
   "metadata": {
    "slideshow": {
     "slide_type": "subslide"
    }
   },
   "source": [
    "### General Usage\n",
    "\n",
    "*CAVEAT*:\n",
    "\n",
    "I am making the assumption that Jupyter is already installed, whether as a part of Anaconda, or seaparately for the language you prefer"
   ]
  },
  {
   "cell_type": "markdown",
   "metadata": {
    "slideshow": {
     "slide_type": "fragment"
    }
   },
   "source": []
  },
  {
   "cell_type": "markdown",
   "metadata": {
    "slideshow": {
     "slide_type": "subslide"
    }
   },
   "source": [
    "### How I (personally) use Jupyter Notebooks"
   ]
  },
  {
   "cell_type": "markdown",
   "metadata": {
    "slideshow": {
     "slide_type": "subslide"
    }
   },
   "source": [
    "* Exploratory Analysis\n",
    "* Prototyping\n",
    "* Testing the results of a model\n",
    "* Working with libraries which provide prebuilt algorithms (sci-kit learn)\n",
    "* For Presentations (Like this one)"
   ]
  },
  {
   "cell_type": "markdown",
   "metadata": {
    "slideshow": {
     "slide_type": "subslide"
    }
   },
   "source": [
    "### Cases where I don't use Jupyter Notebooks\n",
    "\n",
    "* I typically don't use jupyter notebooks where I am writing complicated functions etc\n",
    "* Object Oriented Programming in notebooks tends to be challenging. "
   ]
  },
  {
   "cell_type": "markdown",
   "metadata": {
    "slideshow": {
     "slide_type": "slide"
    }
   },
   "source": [
    "## Why are Jupyter Notebooks Useful"
   ]
  },
  {
   "cell_type": "markdown",
   "metadata": {
    "slideshow": {
     "slide_type": "subslide"
    }
   },
   "source": [
    "* They are great for quickly throwing together analyses\n",
    "* Access to the output on completion allows for quick iteration of visualizations, and other scripts\n",
    "* They can be made very presentable."
   ]
  },
  {
   "cell_type": "markdown",
   "metadata": {
    "slideshow": {
     "slide_type": "subslide"
    }
   },
   "source": []
  },
  {
   "cell_type": "markdown",
   "metadata": {
    "slideshow": {
     "slide_type": "slide"
    }
   },
   "source": [
    "## What are some key Caveats"
   ]
  },
  {
   "cell_type": "markdown",
   "metadata": {
    "slideshow": {
     "slide_type": "subslide"
    }
   },
   "source": [
    "* Execution order matters. A lot!\n",
    "    * This means that earlier cells will run on the current version of the data if you've overwritten it.\n",
    "    * It may be a good idea (if you have the RAM) to create copies of your dataset which you apply changes to as opposed to updating one variable.   \n",
    "* There isn't much indication of code running\n",
    "    * tqdm can help with this"
   ]
  },
  {
   "cell_type": "markdown",
   "metadata": {
    "slideshow": {
     "slide_type": "slide"
    }
   },
   "source": [
    "## Jupyter and Github"
   ]
  },
  {
   "cell_type": "markdown",
   "metadata": {
    "slideshow": {
     "slide_type": "subslide"
    }
   },
   "source": [
    "### From Github's Documentation\n",
    "\n",
    "When you add Jupyter Notebook or IPython Notebook files with a .ipynb extension on GitHub, they will render as static HTML files in your repository.\n",
    "\n",
    "#### Consequence\n",
    "\n",
    "Due to the notebook being rendered as static HTML, your code blocks will not be able to be interacted with. Also, any custom JS plots (for instance using Bokeh) will not function."
   ]
  },
  {
   "cell_type": "markdown",
   "metadata": {
    "slideshow": {
     "slide_type": "subslide"
    }
   },
   "source": [
    "### Linking with Github\n",
    "\n",
    "* Create a Git repository (with your github remote configured)\n",
    "* Start your project\n",
    "* Commit your changes\n",
    "* Push to Github"
   ]
  }
 ],
 "metadata": {
  "celltoolbar": "Slideshow",
  "kernelspec": {
   "display_name": "Python 3",
   "language": "python",
   "name": "python3"
  },
  "language_info": {
   "codemirror_mode": {
    "name": "ipython",
    "version": 3
   },
   "file_extension": ".py",
   "mimetype": "text/x-python",
   "name": "python",
   "nbconvert_exporter": "python",
   "pygments_lexer": "ipython3",
   "version": "3.8.5"
  },
  "toc": {
   "base_numbering": 1,
   "nav_menu": {},
   "number_sections": true,
   "sideBar": true,
   "skip_h1_title": false,
   "title_cell": "Table of Contents",
   "title_sidebar": "Contents",
   "toc_cell": false,
   "toc_position": {},
   "toc_section_display": true,
   "toc_window_display": false
  }
 },
 "nbformat": 4,
 "nbformat_minor": 4
}
